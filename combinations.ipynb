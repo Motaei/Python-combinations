{
 "cells": [
  {
   "cell_type": "code",
   "execution_count": 1,
   "metadata": {},
   "outputs": [],
   "source": [
    "class comb:\n",
    "    def __init__(self,List,number):\n",
    "        self.Data=list(set(List))\n",
    "        self.Data.sort()\n",
    "        self.choose=number\n",
    "        if number>len(self.Data):\n",
    "            self.comb=None\n",
    "            print 'Number cannot exceed the lenght of list!'\n",
    "        else:\n",
    "            self.comb=self.Data[:number]\n",
    "\n",
    "    def __iter__(self):\n",
    "        return self\n",
    "    \n",
    "    def next(self):\n",
    "        if self.comb==None:\n",
    "            raise StopIteration\n",
    "        else:\n",
    "            val=self.comb\n",
    "            if self.Data[-1*self.choose:]==val:\n",
    "                self.comb=None\n",
    "            else:\n",
    "                count=self.choose-1\n",
    "                i=len(self.Data)-1\n",
    "                while (count>=0) and (self.Data[i]==val[count]):\n",
    "                    i-=1\n",
    "                    count-=1\n",
    "                if (count==-1):\n",
    "                    self.comb=None\n",
    "                ind_in_list=self.Data.index(val[count])\n",
    "                self.comb=val[:count]+self.Data[ind_in_list+1:ind_in_list+1+self.choose-count]\n",
    "            return val\n"
   ]
  },
  {
   "cell_type": "code",
   "execution_count": 2,
   "metadata": {},
   "outputs": [
    {
     "name": "stdout",
     "output_type": "stream",
     "text": [
      "[1, 2, 3]\n",
      "[1, 2, 'a']\n",
      "[1, 2, 'bc']\n",
      "[1, 3, 'a']\n",
      "[1, 3, 'bc']\n",
      "[1, 'a', 'bc']\n",
      "[2, 3, 'a']\n",
      "[2, 3, 'bc']\n",
      "[2, 'a', 'bc']\n",
      "[3, 'a', 'bc']\n"
     ]
    }
   ],
   "source": [
    "for i in comb([1,2,3,'a','bc'],3):\n",
    "    print i"
   ]
  },
  {
   "cell_type": "code",
   "execution_count": null,
   "metadata": {
    "collapsed": true
   },
   "outputs": [],
   "source": []
  }
 ],
 "metadata": {
  "kernelspec": {
   "display_name": "Python 2",
   "language": "python",
   "name": "python2"
  },
  "language_info": {
   "codemirror_mode": {
    "name": "ipython",
    "version": 2
   },
   "file_extension": ".py",
   "mimetype": "text/x-python",
   "name": "python",
   "nbconvert_exporter": "python",
   "pygments_lexer": "ipython2",
   "version": "2.7.13"
  }
 },
 "nbformat": 4,
 "nbformat_minor": 2
}
